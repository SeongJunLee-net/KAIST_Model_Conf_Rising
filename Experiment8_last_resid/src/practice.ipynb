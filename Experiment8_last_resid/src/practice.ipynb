{
 "cells": [
  {
   "cell_type": "code",
   "execution_count": 1,
   "metadata": {},
   "outputs": [],
   "source": [
    "import pandas as pd"
   ]
  },
  {
   "cell_type": "code",
   "execution_count": 2,
   "metadata": {},
   "outputs": [
    {
     "data": {
      "text/html": [
       "<div>\n",
       "<style scoped>\n",
       "    .dataframe tbody tr th:only-of-type {\n",
       "        vertical-align: middle;\n",
       "    }\n",
       "\n",
       "    .dataframe tbody tr th {\n",
       "        vertical-align: top;\n",
       "    }\n",
       "\n",
       "    .dataframe thead th {\n",
       "        text-align: right;\n",
       "    }\n",
       "</style>\n",
       "<table border=\"1\" class=\"dataframe\">\n",
       "  <thead>\n",
       "    <tr style=\"text-align: right;\">\n",
       "      <th></th>\n",
       "      <th>uid</th>\n",
       "      <th>subj</th>\n",
       "      <th>rel_id</th>\n",
       "      <th>input</th>\n",
       "      <th>truncated_input</th>\n",
       "      <th>output</th>\n",
       "    </tr>\n",
       "  </thead>\n",
       "  <tbody>\n",
       "    <tr>\n",
       "      <th>0</th>\n",
       "      <td>e54a5932-7bfd-4b50-a971-fe1fb5640651</td>\n",
       "      <td>Tokyo Metropolitan Bureau of Transportation</td>\n",
       "      <td>P740</td>\n",
       "      <td>Tokyo Metropolitan Bureau of Transportation wa...</td>\n",
       "      <td>Tokyo Metropolitan Bureau of Transportation wa...</td>\n",
       "      <td>Tokyo</td>\n",
       "    </tr>\n",
       "    <tr>\n",
       "      <th>1</th>\n",
       "      <td>9964b31d-4b2c-497e-a1b8-720d7234299e</td>\n",
       "      <td>Belle du Seigneur</td>\n",
       "      <td>P495</td>\n",
       "      <td>Belle du Seigneur was created in [MASK] .</td>\n",
       "      <td>Belle du Seigneur was created in</td>\n",
       "      <td>Switzerland</td>\n",
       "    </tr>\n",
       "    <tr>\n",
       "      <th>2</th>\n",
       "      <td>5f813b71-1f38-46af-a87d-e1dc3b5bcae5</td>\n",
       "      <td>chocolate</td>\n",
       "      <td>P527</td>\n",
       "      <td>chocolate consists of [MASK] .</td>\n",
       "      <td>chocolate consists of</td>\n",
       "      <td>sugar</td>\n",
       "    </tr>\n",
       "    <tr>\n",
       "      <th>3</th>\n",
       "      <td>2c86fe62-2f04-42b3-a526-c7b8d71efaef</td>\n",
       "      <td>Vientiane</td>\n",
       "      <td>P1376</td>\n",
       "      <td>Vientiane is the capital of [MASK] .</td>\n",
       "      <td>Vientiane is the capital of</td>\n",
       "      <td>Laos</td>\n",
       "    </tr>\n",
       "    <tr>\n",
       "      <th>4</th>\n",
       "      <td>190697f3-9e00-4f83-a9e1-d7264d52f6eb</td>\n",
       "      <td>Andorra</td>\n",
       "      <td>P530</td>\n",
       "      <td>Andorra maintains diplomatic relations with [M...</td>\n",
       "      <td>Andorra maintains diplomatic relations with</td>\n",
       "      <td>Italy</td>\n",
       "    </tr>\n",
       "    <tr>\n",
       "      <th>...</th>\n",
       "      <td>...</td>\n",
       "      <td>...</td>\n",
       "      <td>...</td>\n",
       "      <td>...</td>\n",
       "      <td>...</td>\n",
       "      <td>...</td>\n",
       "    </tr>\n",
       "    <tr>\n",
       "      <th>21244</th>\n",
       "      <td>8b951418-ae04-4c03-924e-1e82bac5098f</td>\n",
       "      <td>Klaus Tschira</td>\n",
       "      <td>P108</td>\n",
       "      <td>Klaus Tschira works for [MASK] .</td>\n",
       "      <td>Klaus Tschira works for</td>\n",
       "      <td>IBM</td>\n",
       "    </tr>\n",
       "    <tr>\n",
       "      <th>21245</th>\n",
       "      <td>1530e3bb-f9a9-4076-8de7-b72d74e8ce34</td>\n",
       "      <td>Anna Louisa Karsch</td>\n",
       "      <td>P106</td>\n",
       "      <td>Anna Louisa Karsch is a [MASK] by profession .</td>\n",
       "      <td>Anna Louisa Karsch is a</td>\n",
       "      <td>poet</td>\n",
       "    </tr>\n",
       "    <tr>\n",
       "      <th>21246</th>\n",
       "      <td>ebbc8828-f162-4037-a827-ba8681b2a434</td>\n",
       "      <td>Texas</td>\n",
       "      <td>P36</td>\n",
       "      <td>The capital of Texas is [MASK] .</td>\n",
       "      <td>The capital of Texas is</td>\n",
       "      <td>Austin</td>\n",
       "    </tr>\n",
       "    <tr>\n",
       "      <th>21247</th>\n",
       "      <td>fbddd8cf-954c-4596-b928-5b83305e995d</td>\n",
       "      <td>Reasonable Doubts</td>\n",
       "      <td>P449</td>\n",
       "      <td>Reasonable Doubts was originally aired on [MAS...</td>\n",
       "      <td>Reasonable Doubts was originally aired on</td>\n",
       "      <td>NBC</td>\n",
       "    </tr>\n",
       "    <tr>\n",
       "      <th>21248</th>\n",
       "      <td>22f2ac8a-8191-40e1-b1c2-86c42a6089e5</td>\n",
       "      <td>Cory Bernardi</td>\n",
       "      <td>P19</td>\n",
       "      <td>Cory Bernardi was born in [MASK] .</td>\n",
       "      <td>Cory Bernardi was born in</td>\n",
       "      <td>Adelaide</td>\n",
       "    </tr>\n",
       "  </tbody>\n",
       "</table>\n",
       "<p>21249 rows × 6 columns</p>\n",
       "</div>"
      ],
      "text/plain": [
       "                                        uid  \\\n",
       "0      e54a5932-7bfd-4b50-a971-fe1fb5640651   \n",
       "1      9964b31d-4b2c-497e-a1b8-720d7234299e   \n",
       "2      5f813b71-1f38-46af-a87d-e1dc3b5bcae5   \n",
       "3      2c86fe62-2f04-42b3-a526-c7b8d71efaef   \n",
       "4      190697f3-9e00-4f83-a9e1-d7264d52f6eb   \n",
       "...                                     ...   \n",
       "21244  8b951418-ae04-4c03-924e-1e82bac5098f   \n",
       "21245  1530e3bb-f9a9-4076-8de7-b72d74e8ce34   \n",
       "21246  ebbc8828-f162-4037-a827-ba8681b2a434   \n",
       "21247  fbddd8cf-954c-4596-b928-5b83305e995d   \n",
       "21248  22f2ac8a-8191-40e1-b1c2-86c42a6089e5   \n",
       "\n",
       "                                              subj rel_id  \\\n",
       "0      Tokyo Metropolitan Bureau of Transportation   P740   \n",
       "1                                Belle du Seigneur   P495   \n",
       "2                                        chocolate   P527   \n",
       "3                                        Vientiane  P1376   \n",
       "4                                          Andorra   P530   \n",
       "...                                            ...    ...   \n",
       "21244                                Klaus Tschira   P108   \n",
       "21245                           Anna Louisa Karsch   P106   \n",
       "21246                                        Texas    P36   \n",
       "21247                            Reasonable Doubts   P449   \n",
       "21248                                Cory Bernardi    P19   \n",
       "\n",
       "                                                   input  \\\n",
       "0      Tokyo Metropolitan Bureau of Transportation wa...   \n",
       "1              Belle du Seigneur was created in [MASK] .   \n",
       "2                         chocolate consists of [MASK] .   \n",
       "3                   Vientiane is the capital of [MASK] .   \n",
       "4      Andorra maintains diplomatic relations with [M...   \n",
       "...                                                  ...   \n",
       "21244                   Klaus Tschira works for [MASK] .   \n",
       "21245     Anna Louisa Karsch is a [MASK] by profession .   \n",
       "21246                   The capital of Texas is [MASK] .   \n",
       "21247  Reasonable Doubts was originally aired on [MAS...   \n",
       "21248                 Cory Bernardi was born in [MASK] .   \n",
       "\n",
       "                                         truncated_input       output  \n",
       "0      Tokyo Metropolitan Bureau of Transportation wa...        Tokyo  \n",
       "1                       Belle du Seigneur was created in  Switzerland  \n",
       "2                                  chocolate consists of        sugar  \n",
       "3                            Vientiane is the capital of         Laos  \n",
       "4            Andorra maintains diplomatic relations with        Italy  \n",
       "...                                                  ...          ...  \n",
       "21244                            Klaus Tschira works for          IBM  \n",
       "21245                            Anna Louisa Karsch is a         poet  \n",
       "21246                            The capital of Texas is       Austin  \n",
       "21247          Reasonable Doubts was originally aired on          NBC  \n",
       "21248                          Cory Bernardi was born in     Adelaide  \n",
       "\n",
       "[21249 rows x 6 columns]"
      ]
     },
     "execution_count": 2,
     "metadata": {},
     "output_type": "execute_result"
    }
   ],
   "source": [
    "pd.read_json('../dataset/train.json')"
   ]
  },
  {
   "cell_type": "code",
   "execution_count": 3,
   "metadata": {},
   "outputs": [],
   "source": [
    "import json    \n",
    "with open(\"../dataset/intervention_data/gpt2_train=True_entropy.json\",'rb') as f:\n",
    "    ie_data = json.load(f)"
   ]
  },
  {
   "cell_type": "code",
   "execution_count": 9,
   "metadata": {},
   "outputs": [
    {
     "data": {
      "text/plain": [
       "tensor([[  9,  19,  29,  39,  49,  59,  69,  79,  89,  99],\n",
       "        [109, 119, 129, 139, 149, 159, 169, 179, 189, 199],\n",
       "        [209, 219, 229, 239, 249, 259, 269, 279, 289, 299],\n",
       "        [309, 319, 329, 339, 349, 359, 369, 379, 389, 399],\n",
       "        [409, 419, 429, 439, 449, 459, 469, 479, 489, 499],\n",
       "        [509, 519, 529, 539, 549, 559, 569, 579, 589, 599],\n",
       "        [609, 619, 629, 639, 649, 659, 669, 679, 689, 699],\n",
       "        [709, 719, 729, 739, 749, 759, 769, 779, 789, 799],\n",
       "        [809, 819, 829, 839, 849, 859, 869, 879, 889, 899],\n",
       "        [909, 919, 929, 939, 949, 959, 969, 979, 989, 999]])"
      ]
     },
     "execution_count": 9,
     "metadata": {},
     "output_type": "execute_result"
    }
   ],
   "source": [
    "import torch\n",
    "torch.arange(1000).view(10,10,10).max(axis=2).values"
   ]
  },
  {
   "cell_type": "code",
   "execution_count": 1,
   "metadata": {},
   "outputs": [
    {
     "name": "stderr",
     "output_type": "stream",
     "text": [
      "/home/sjlee/miniconda3/envs/sj_virtual/lib/python3.8/site-packages/tqdm/auto.py:21: TqdmWarning: IProgress not found. Please update jupyter and ipywidgets. See https://ipywidgets.readthedocs.io/en/stable/user_install.html\n",
      "  from .autonotebook import tqdm as notebook_tqdm\n"
     ]
    }
   ],
   "source": [
    "import pandas as pd\n",
    "import numpy as np\n",
    "from functools import partial\n",
    "from copy import deepcopy\n",
    "from transformers import GPT2LMHeadModel, GPT2Tokenizer, DataCollatorForLanguageModeling, Trainer, TrainingArguments\n",
    "from datasets import load_dataset"
   ]
  },
  {
   "cell_type": "code",
   "execution_count": 17,
   "metadata": {},
   "outputs": [],
   "source": [
    "def make_content(examples):\n",
    "    examples['content'] = examples['truncated_input'] + ' ' + examples['output'] \n",
    "    return examples"
   ]
  },
  {
   "cell_type": "code",
   "execution_count": 3,
   "metadata": {},
   "outputs": [],
   "source": [
    "tokenizer = GPT2Tokenizer.from_pretrained('gpt2')\n",
    "tokenizer.pad_token = tokenizer.eos_token\n",
    "tokenizer.padding_side = 'right'"
   ]
  },
  {
   "cell_type": "code",
   "execution_count": 19,
   "metadata": {},
   "outputs": [],
   "source": [
    "def preprocess_function(examples,tokenizer):\n",
    "    # batch=True를 통해 하나의 리스트로써 들어온다\n",
    "    examples = examples['content']\n",
    "    tokenized = tokenizer(examples, padding=True,truncation=True,return_tensors = 'pt')\n",
    "    return tokenized\n"
   ]
  },
  {
   "cell_type": "code",
   "execution_count": 20,
   "metadata": {},
   "outputs": [
    {
     "name": "stderr",
     "output_type": "stream",
     "text": [
      "Map: 100%|██████████| 21249/21249 [00:02<00:00, 7549.91 examples/s]\n",
      "Map: 100%|██████████| 3750/3750 [00:00<00:00, 8927.39 examples/s]\n",
      "Map (num_proc=4): 100%|██████████| 21249/21249 [00:07<00:00, 2798.87 examples/s]\n"
     ]
    }
   ],
   "source": [
    "train = load_dataset(\"json\", data_files = \"../dataset/train.json\")\n",
    "valid = load_dataset(\"json\", data_files = \"../dataset/validation.json\")\n",
    "preprocess_func = partial(preprocess_function,tokenizer=tokenizer)\n",
    "\n",
    "train = train.map(make_content)\n",
    "valid = valid.map(make_content)\n",
    "\n",
    "\n",
    "train_dataset = train.map(preprocess_func,\n",
    "                    batched = True,\n",
    "                    num_proc = 4,\n",
    "                    remove_columns = train['train'].column_names\n",
    "                    ) "
   ]
  },
  {
   "cell_type": "code",
   "execution_count": 8,
   "metadata": {},
   "outputs": [
    {
     "data": {
      "text/plain": [
       "{'input_ids': [11790, 21609, 9840, 286, 15198], 'attention_mask': [1, 1, 1, 1, 1]}"
      ]
     },
     "execution_count": 8,
     "metadata": {},
     "output_type": "execute_result"
    }
   ],
   "source": [
    "tokenizer(' Tokyo Metropolitan Bureau of Transportation')"
   ]
  },
  {
   "cell_type": "code",
   "execution_count": 23,
   "metadata": {},
   "outputs": [
    {
     "data": {
      "text/plain": [
       "[15198]"
      ]
     },
     "execution_count": 23,
     "metadata": {},
     "output_type": "execute_result"
    }
   ],
   "source": [
    "tokenizer.decode([15198])\n",
    "tokenizer.encode(' Transportation')"
   ]
  },
  {
   "cell_type": "code",
   "execution_count": 21,
   "metadata": {},
   "outputs": [
    {
     "data": {
      "text/plain": [
       "[8291, 10189]"
      ]
     },
     "execution_count": 21,
     "metadata": {},
     "output_type": "execute_result"
    }
   ],
   "source": [
    "tokenizer.encode('Transportation')"
   ]
  },
  {
   "cell_type": "code",
   "execution_count": 24,
   "metadata": {},
   "outputs": [
    {
     "data": {
      "text/plain": [
       "'yo'"
      ]
     },
     "execution_count": 24,
     "metadata": {},
     "output_type": "execute_result"
    }
   ],
   "source": [
    "tokenizer.decode([8226])"
   ]
  },
  {
   "cell_type": "code",
   "execution_count": 22,
   "metadata": {},
   "outputs": [
    {
     "data": {
      "text/plain": [
       "[19042,\n",
       " 8226,\n",
       " 21609,\n",
       " 9840,\n",
       " 286,\n",
       " 15198,\n",
       " 373,\n",
       " 9393,\n",
       " 287,\n",
       " 11790,\n",
       " 50256,\n",
       " 50256,\n",
       " 50256,\n",
       " 50256,\n",
       " 50256,\n",
       " 50256,\n",
       " 50256,\n",
       " 50256,\n",
       " 50256,\n",
       " 50256,\n",
       " 50256,\n",
       " 50256,\n",
       " 50256]"
      ]
     },
     "execution_count": 22,
     "metadata": {},
     "output_type": "execute_result"
    }
   ],
   "source": [
    "train_dataset['train']['input_ids'][0]"
   ]
  },
  {
   "cell_type": "code",
   "execution_count": 1,
   "metadata": {},
   "outputs": [
    {
     "data": {
      "text/plain": [
       "'Father lies me'"
      ]
     },
     "execution_count": 1,
     "metadata": {},
     "output_type": "execute_result"
    }
   ],
   "source": [
    "\"Father Lies Me\".capitalize()"
   ]
  },
  {
   "cell_type": "code",
   "execution_count": 2,
   "metadata": {},
   "outputs": [
    {
     "data": {
      "text/plain": [
       "['Zagreb', 'is', 'the', 'capital', 'of']"
      ]
     },
     "execution_count": 2,
     "metadata": {},
     "output_type": "execute_result"
    }
   ],
   "source": [
    "' Zagreb is the capital of'.split()"
   ]
  },
  {
   "cell_type": "code",
   "execution_count": 4,
   "metadata": {},
   "outputs": [
    {
     "data": {
      "text/plain": [
       "2"
      ]
     },
     "execution_count": 4,
     "metadata": {},
     "output_type": "execute_result"
    }
   ],
   "source": [
    "[1,2,3,4,3].count(3)"
   ]
  },
  {
   "cell_type": "code",
   "execution_count": 8,
   "metadata": {},
   "outputs": [
    {
     "data": {
      "text/plain": [
       "{'input_ids': [35337, 616, 2988, 1297, 502, 373, 2727, 287], 'attention_mask': [1, 1, 1, 1, 1, 1, 1, 1]}"
      ]
     },
     "execution_count": 8,
     "metadata": {},
     "output_type": "execute_result"
    }
   ],
   "source": [
    "tokenizer(' Lies my father told me was created in')"
   ]
  },
  {
   "cell_type": "code",
   "execution_count": 33,
   "metadata": {},
   "outputs": [
    {
     "data": {
      "text/plain": [
       "[5171, 4763]"
      ]
     },
     "execution_count": 33,
     "metadata": {},
     "output_type": "execute_result"
    }
   ],
   "source": [
    "tokenizer.encode('canada')"
   ]
  },
  {
   "cell_type": "code",
   "execution_count": 35,
   "metadata": {},
   "outputs": [
    {
     "data": {
      "text/plain": [
       "[32398]"
      ]
     },
     "execution_count": 35,
     "metadata": {},
     "output_type": "execute_result"
    }
   ],
   "source": [
    "tokenizer.encode('Entity')"
   ]
  },
  {
   "cell_type": "code",
   "execution_count": 27,
   "metadata": {},
   "outputs": [
    {
     "data": {
      "text/plain": [
       "'Entity'"
      ]
     },
     "execution_count": 27,
     "metadata": {},
     "output_type": "execute_result"
    }
   ],
   "source": [
    "tokenizer.decode(32398)"
   ]
  },
  {
   "cell_type": "code",
   "execution_count": 28,
   "metadata": {},
   "outputs": [
    {
     "data": {
      "text/plain": [
       "' Entity'"
      ]
     },
     "execution_count": 28,
     "metadata": {},
     "output_type": "execute_result"
    }
   ],
   "source": [
    "tokenizer.decode(20885)"
   ]
  },
  {
   "cell_type": "code",
   "execution_count": 26,
   "metadata": {},
   "outputs": [
    {
     "data": {
      "text/plain": [
       "1"
      ]
     },
     "execution_count": 26,
     "metadata": {},
     "output_type": "execute_result"
    }
   ],
   "source": [
    "A = np.array([1,2,3,4])\n",
    "A[0]"
   ]
  },
  {
   "cell_type": "code",
   "execution_count": null,
   "metadata": {},
   "outputs": [],
   "source": []
  }
 ],
 "metadata": {
  "kernelspec": {
   "display_name": "sj_virtual",
   "language": "python",
   "name": "python3"
  },
  "language_info": {
   "codemirror_mode": {
    "name": "ipython",
    "version": 3
   },
   "file_extension": ".py",
   "mimetype": "text/x-python",
   "name": "python",
   "nbconvert_exporter": "python",
   "pygments_lexer": "ipython3",
   "version": "3.8.19"
  }
 },
 "nbformat": 4,
 "nbformat_minor": 2
}
